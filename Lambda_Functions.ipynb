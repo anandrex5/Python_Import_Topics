{
 "cells": [
  {
   "cell_type": "code",
   "execution_count": 4,
   "id": "d262ca0c",
   "metadata": {},
   "outputs": [
    {
     "name": "stdout",
     "output_type": "stream",
     "text": [
      "15\n"
     ]
    }
   ],
   "source": [
    "#Lambda Function - It also known as Anonymous function.\n",
    "#A Lambda Function can take Number of  arguements , but can only have single expression.\n",
    "\n",
    "#Example\n",
    "\n",
    "#1) Lambda function having single arguement\n",
    "\n",
    "\n",
    "a = lambda a : a +5\n",
    "print(a(10))"
   ]
  },
  {
   "cell_type": "code",
   "execution_count": 5,
   "id": "28eb6a5f",
   "metadata": {},
   "outputs": [
    {
     "name": "stdout",
     "output_type": "stream",
     "text": [
      "6\n"
     ]
    }
   ],
   "source": [
    "#2) Lambda function having multiple arguments.\n",
    "\n",
    "a = lambda a,b,c : a+b+c\n",
    "print(a(1,2,3))"
   ]
  },
  {
   "cell_type": "code",
   "execution_count": 6,
   "id": "3375ebbb",
   "metadata": {},
   "outputs": [],
   "source": [
    "#3) Why Use Lambda Functions?\n",
    "\n",
    "#The power of lambda is better shown when you use them as an anonymous function inside another function.\n",
    "\n",
    "\n",
    "def myfunc(n):\n",
    "    return lambda a : a * n "
   ]
  },
  {
   "cell_type": "code",
   "execution_count": 7,
   "id": "9643fbbf",
   "metadata": {},
   "outputs": [
    {
     "name": "stdout",
     "output_type": "stream",
     "text": [
      "20\n"
     ]
    }
   ],
   "source": [
    "#Use that function definition to make a function that always doubles the number you send in:\n",
    "\n",
    "\n",
    "\n",
    "def myfunc1(n):\n",
    "    return lambda a : a * n\n",
    "my_new_funct2 = myfunc1(2)\n",
    "print(my_new_funct2(10))"
   ]
  }
 ],
 "metadata": {
  "kernelspec": {
   "display_name": "Python 3",
   "language": "python",
   "name": "python3"
  },
  "language_info": {
   "codemirror_mode": {
    "name": "ipython",
    "version": 3
   },
   "file_extension": ".py",
   "mimetype": "text/x-python",
   "name": "python",
   "nbconvert_exporter": "python",
   "pygments_lexer": "ipython3",
   "version": "3.8.8"
  }
 },
 "nbformat": 4,
 "nbformat_minor": 5
}
