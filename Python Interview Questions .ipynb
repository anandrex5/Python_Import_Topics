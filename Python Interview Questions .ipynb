{
 "cells": [
  {
   "cell_type": "code",
   "execution_count": 5,
   "id": "faa038db",
   "metadata": {},
   "outputs": [
    {
     "name": "stdout",
     "output_type": "stream",
     "text": [
      "Enter the input:Anand\n",
      "A 1\n",
      "n 2\n",
      "a 3\n",
      "n 4\n",
      "d 5\n"
     ]
    }
   ],
   "source": [
    "#input ANAND\n",
    "# A = 1, N = 2 , A = 3, A=4, A=5\n",
    "\n",
    "x= input(\"Enter the input:\")\n",
    "j=0\n",
    "for i in x:\n",
    "    j+=1\n",
    "    print(i,j)"
   ]
  },
  {
   "cell_type": "code",
   "execution_count": 4,
   "id": "b1401908",
   "metadata": {},
   "outputs": [
    {
     "name": "stdout",
     "output_type": "stream",
     "text": [
      "dnanA si eman yM\n"
     ]
    }
   ],
   "source": [
    "#Reverse of a String\n",
    "\n",
    "\n",
    "\n",
    "def my_function(x):\n",
    "    return x [::-1]\n",
    "myreversetext = my_function(\"My name is Anand\")\n",
    "print(myreversetext)"
   ]
  },
  {
   "cell_type": "code",
   "execution_count": 6,
   "id": "cd6d4969",
   "metadata": {},
   "outputs": [
    {
     "name": "stdout",
     "output_type": "stream",
     "text": [
      "the original string: Anand Nishad\n",
      "the reverse of the string: dahsiN dnanA\n"
     ]
    }
   ],
   "source": [
    "#using recursion (simple method)\n",
    "\n",
    "\n",
    "def reverse(s):\n",
    "    if len(s) == 0:\n",
    "        return s\n",
    "    else:\n",
    "        return reverse(s[1:]) + s[0]\n",
    "\n",
    "s = \"Anand Nishad\"\n",
    "\n",
    "print(\"the original string:\",s)\n",
    "print(\"the reverse of the string:\",reverse(s))\n"
   ]
  },
  {
   "cell_type": "code",
   "execution_count": 24,
   "id": "f0dd623e",
   "metadata": {},
   "outputs": [
    {
     "name": "stdout",
     "output_type": "stream",
     "text": [
      "The original string is:  Anand Nishad\n",
      "The reverse string is dahsiN dnanA\n"
     ]
    }
   ],
   "source": [
    "#for loop \n",
    "\n",
    "def reverse_string(str):  \n",
    "    str1 = \"\"                   # Declaring empty string to store the reversed string  \n",
    "    for i in str:  \n",
    "        str1 = i + str1  \n",
    "    return str1                # It will return the reverse string to the caller function  \n",
    "     \n",
    "str = \"Anand Nishad\"             # Given String       \n",
    "print(\"The original string is: \",str)  \n",
    "print(\"The reverse string is\",reverse_string(str))  # Function call  "
   ]
  },
  {
   "cell_type": "code",
   "execution_count": null,
   "id": "48f665c9",
   "metadata": {},
   "outputs": [],
   "source": [
    "#REVERSE OF THE WORDS\n",
    "\n",
    "\n",
    "\n"
   ]
  },
  {
   "cell_type": "code",
   "execution_count": 25,
   "id": "5848a552",
   "metadata": {},
   "outputs": [
    {
     "name": "stdout",
     "output_type": "stream",
     "text": [
      "Nishad Anand is name My\n"
     ]
    }
   ],
   "source": [
    "def reverse(str_r):\n",
    "    str_r=str_r[::-1]\n",
    "    return str_r\n",
    "\n",
    "\n",
    "\n",
    "def reverse_words(str_r):\n",
    "    n=len(str_r)\n",
    "    if(n==1):\n",
    "        return str_r\n",
    "    str2=str_r.split(\" \")\n",
    "    size=len(str2)\n",
    "    rev_all=\"\"\n",
    "    for i in range(size):\n",
    "        rev=reverse(str2[i])\n",
    "        rev_all=rev_all+rev+\" \"\n",
    "    d=reverse(rev_all)\n",
    "    return d.strip()\n",
    "str_r=\"My name is Anand Nishad\"\n",
    "print(reverse_words(str_r))"
   ]
  },
  {
   "cell_type": "code",
   "execution_count": 40,
   "id": "a1b41967",
   "metadata": {},
   "outputs": [
    {
     "name": "stdout",
     "output_type": "stream",
     "text": [
      "[556, 77, 22, 3]\n",
      "77\n"
     ]
    }
   ],
   "source": [
    "#Find the second largest elements in the list.\n",
    "\n",
    "x= [22,3,556,77]\n",
    "x.sort()\n",
    "print(reverse(x))\n",
    "print(x[-2])\n"
   ]
  },
  {
   "cell_type": "code",
   "execution_count": 39,
   "id": "43d15665",
   "metadata": {},
   "outputs": [
    {
     "name": "stdout",
     "output_type": "stream",
     "text": [
      "Enter number of elements:5\n",
      "Enter element:1\n",
      "Enter element:2\n",
      "Enter element:5\n",
      "Enter element:77\n",
      "Enter element:99\n",
      "Second largest element is: 77\n"
     ]
    }
   ],
   "source": [
    "#method 2\n",
    "\n",
    "\n",
    "a=[]\n",
    "n=int(input(\"Enter number of elements:\"))\n",
    "for i in range(1,n+1):\n",
    "    b=int(input(\"Enter element:\"))\n",
    "    a.append(b)\n",
    "a.sort()\n",
    "print(\"Second largest element is:\",a[n-2])"
   ]
  },
  {
   "cell_type": "code",
   "execution_count": 62,
   "id": "12dca056",
   "metadata": {},
   "outputs": [
    {
     "name": "stdout",
     "output_type": "stream",
     "text": [
      "120\n"
     ]
    }
   ],
   "source": [
    "#Factorial of the numbers \n",
    "\n",
    "\n",
    "x= [5]\n",
    "for i in x:\n",
    "    fact = 1\n",
    "    for j in range(1,i+1):\n",
    "        fact = fact*j\n",
    "print(fact)"
   ]
  },
  {
   "cell_type": "code",
   "execution_count": 51,
   "id": "01192dbf",
   "metadata": {},
   "outputs": [
    {
     "name": "stdout",
     "output_type": "stream",
     "text": [
      "0\n",
      "1\n",
      "1\n",
      "2\n",
      "3\n"
     ]
    }
   ],
   "source": [
    "#fabinnaco number \n",
    "\n",
    "def fib(n):\n",
    "    a=0\n",
    "    b=1\n",
    "    print(a)\n",
    "    print(b)\n",
    "    for i in range(2,n):\n",
    "        c=a+b\n",
    "        a=b\n",
    "        b=c\n",
    "        print(c)\n",
    "        \n",
    "fib(5)"
   ]
  }
 ],
 "metadata": {
  "kernelspec": {
   "display_name": "Python 3",
   "language": "python",
   "name": "python3"
  },
  "language_info": {
   "codemirror_mode": {
    "name": "ipython",
    "version": 3
   },
   "file_extension": ".py",
   "mimetype": "text/x-python",
   "name": "python",
   "nbconvert_exporter": "python",
   "pygments_lexer": "ipython3",
   "version": "3.8.8"
  }
 },
 "nbformat": 4,
 "nbformat_minor": 5
}
